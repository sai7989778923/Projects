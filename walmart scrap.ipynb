{
 "cells": [
  {
   "cell_type": "code",
   "execution_count": 1,
   "metadata": {},
   "outputs": [],
   "source": [
    "from bs4 import BeautifulSoup\n",
    "import requests\n",
    "import datetime\n",
    "import time\n",
    "import smtplib\n"
   ]
  },
  {
   "cell_type": "code",
   "execution_count": 19,
   "metadata": {},
   "outputs": [
    {
     "name": "stdout",
     "output_type": "stream",
     "text": [
      "\n",
      "                   Fresh Yellow Onions, 3 lb Bag\n",
      "                  \n",
      "\n",
      "\n",
      "                     Now $1.98\n",
      "                    \n",
      "\n"
     ]
    }
   ],
   "source": [
    "#Getting data\n",
    "url=\"https://www.walmart.com/ip/Fresh-Yellow-Onions-3-lb-Bag/10447842?athbdg=L1300&from=/search\"\n",
    "header={\"User-Agent\": \"Mozilla/5.0 (Windows NT 10.0; Win64; x64) AppleWebKit/537.36 (KHTML, like Gecko) Chrome/119.0.0.0 Safari/537.36\",\"Accept-Encoding\": \"gzip, deflate, br\",\"Accept\": \"text/html,application/xhtml+xml,application/xml;q=0.9,image/avif,image/webp,image/apng,*/*;q=0.8,application/signed-exchange;v=b3;q=0.7\",\"Upgrade-Insecure-Requests\": \"1\"}\n",
    "page=requests.get(url,headers=header)\n",
    "stuff1=BeautifulSoup(page.content,'html.parser')\n",
    "stuff2=BeautifulSoup(stuff1.prettify(),'html.parser')\n",
    "title=stuff2.find(id='main-title').get_text()\n",
    "price=stuff2.find('span',class_='inline-flex flex-column').get_text()\n",
    "print(title)\n",
    "print(price)\n"
   ]
  },
  {
   "cell_type": "code",
   "execution_count": 20,
   "metadata": {},
   "outputs": [
    {
     "name": "stdout",
     "output_type": "stream",
     "text": [
      "Fresh Yellow Onions, 3 lb Bag\n",
      "$1.98\n",
      "2023-11-08\n"
     ]
    }
   ],
   "source": [
    "price=price.strip()[4:]\n",
    "title=title.strip()\n",
    "date=datetime.date.today()\n",
    "print(title)\n",
    "print(price)\n",
    "print(date)"
   ]
  },
  {
   "cell_type": "code",
   "execution_count": 21,
   "metadata": {},
   "outputs": [],
   "source": [
    "import csv\n",
    "header=['title','price','date']\n",
    "data=[title,price,date]\n",
    "\n",
    "with open('walmartdata.csv','w',newline='',encoding='UTF8')as f:\n",
    "    writer=csv.writer(f)\n",
    "    writer.writerow(header)\n",
    "    writer.writerow(data)"
   ]
  },
  {
   "cell_type": "code",
   "execution_count": 26,
   "metadata": {},
   "outputs": [
    {
     "name": "stdout",
     "output_type": "stream",
     "text": [
      "                           title  price        date\n",
      "0  Fresh Yellow Onions, 3 lb Bag  $1.98  2023-11-08\n",
      "1  Fresh Yellow Onions, 3 lb Bag  $1.98  2023-11-08\n",
      "2  Fresh Yellow Onions, 3 lb Bag  $1.98  2023-11-08\n"
     ]
    }
   ],
   "source": [
    "import pandas as pd\n",
    "df=pd.read_csv(r'C:\\Users\\SAI\\walmartdata.csv')\n",
    "print(df)"
   ]
  },
  {
   "cell_type": "code",
   "execution_count": 25,
   "metadata": {},
   "outputs": [],
   "source": [
    "with open('walmartdata.csv','a+',newline='',encoding='UTF8')as f:\n",
    "    writer=csv.writer(f)\n",
    "    writer.writerow(data)"
   ]
  },
  {
   "cell_type": "code",
   "execution_count": 27,
   "metadata": {},
   "outputs": [],
   "source": [
    "def price_tracking():\n",
    "    url=\"https://www.walmart.com/ip/Fresh-Yellow-Onions-3-lb-Bag/10447842?athbdg=L1300&from=/search\"\n",
    "    headers={\"User-Agent\": \"Mozilla/5.0 (Windows NT 10.0; Win64; x64) AppleWebKit/537.36 (KHTML, like Gecko) Chrome/119.0.0.0 Safari/537.36\",\"Accept-Encoding\": \"gzip, deflate, br\",\"Accept\": \"text/html,application/xhtml+xml,application/xml;q=0.9,image/avif,image/webp,image/apng,*/*;q=0.8,application/signed-exchange;v=b3;q=0.7\",\"Upgrade-Insecure-Requests\": \"1\"}\n",
    "    page=requests.get(url,headers=headers)\n",
    "    stuff1=BeautifulSoup(page.content,'html.parser')\n",
    "    stuff2=BeautifulSoup(stuff1.prettify(),'html.parser')\n",
    "    title=stuff2.find(id='main-title').get_text()\n",
    "    price=stuff2.find('span',class_='inline-flex flex-column').get_text()\n",
    "    \n",
    "    price=price.strip()[4:]\n",
    "    title=title.strip()\n",
    "    date=datetime.date.today()\n",
    "    \n",
    "    import csv\n",
    "    header=['title','price','date']\n",
    "    data=[title,price,date]\n",
    "    \n",
    "    with open('walmartdata.csv','a+',newline='',encoding='UTF8')as f:\n",
    "        writer=csv.writer(f)\n",
    "        writer.writerow(data)\n",
    "    \n",
    "    \n",
    "    "
   ]
  },
  {
   "cell_type": "code",
   "execution_count": 29,
   "metadata": {},
   "outputs": [
    {
     "ename": "KeyboardInterrupt",
     "evalue": "",
     "output_type": "error",
     "traceback": [
      "\u001b[1;31m---------------------------------------------------------------------------\u001b[0m",
      "\u001b[1;31mKeyboardInterrupt\u001b[0m                         Traceback (most recent call last)",
      "Cell \u001b[1;32mIn[29], line 3\u001b[0m\n\u001b[0;32m      1\u001b[0m \u001b[38;5;28;01mwhile\u001b[39;00m(\u001b[38;5;28;01mTrue\u001b[39;00m):\n\u001b[0;32m      2\u001b[0m     price_tracking()\n\u001b[1;32m----> 3\u001b[0m     \u001b[43mtime\u001b[49m\u001b[38;5;241;43m.\u001b[39;49m\u001b[43msleep\u001b[49m\u001b[43m(\u001b[49m\u001b[38;5;241;43m3\u001b[39;49m\u001b[43m)\u001b[49m\n",
      "\u001b[1;31mKeyboardInterrupt\u001b[0m: "
     ]
    }
   ],
   "source": [
    "while(True):\n",
    "    price_tracking()\n",
    "    time.sleep(3)"
   ]
  },
  {
   "cell_type": "code",
   "execution_count": 30,
   "metadata": {},
   "outputs": [
    {
     "name": "stdout",
     "output_type": "stream",
     "text": [
      "                            title  price        date\n",
      "0   Fresh Yellow Onions, 3 lb Bag  $1.98  2023-11-08\n",
      "1   Fresh Yellow Onions, 3 lb Bag  $1.98  2023-11-08\n",
      "2   Fresh Yellow Onions, 3 lb Bag  $1.98  2023-11-08\n",
      "3   Fresh Yellow Onions, 3 lb Bag  $1.98  2023-11-08\n",
      "4   Fresh Yellow Onions, 3 lb Bag  $1.98  2023-11-08\n",
      "5   Fresh Yellow Onions, 3 lb Bag  $1.98  2023-11-08\n",
      "6   Fresh Yellow Onions, 3 lb Bag  $1.98  2023-11-08\n",
      "7   Fresh Yellow Onions, 3 lb Bag  $1.98  2023-11-08\n",
      "8   Fresh Yellow Onions, 3 lb Bag  $1.98  2023-11-08\n",
      "9   Fresh Yellow Onions, 3 lb Bag  $1.98  2023-11-08\n",
      "10  Fresh Yellow Onions, 3 lb Bag  $1.98  2023-11-08\n",
      "11  Fresh Yellow Onions, 3 lb Bag  $1.98  2023-11-08\n"
     ]
    }
   ],
   "source": [
    "import pandas as pd\n",
    "df=pd.read_csv(r'C:\\Users\\SAI\\walmartdata.csv')\n",
    "print(df)"
   ]
  },
  {
   "cell_type": "code",
   "execution_count": null,
   "metadata": {},
   "outputs": [],
   "source": []
  }
 ],
 "metadata": {
  "kernelspec": {
   "display_name": "BSKernel",
   "language": "python",
   "name": "bskernel"
  },
  "language_info": {
   "codemirror_mode": {
    "name": "ipython",
    "version": 3
   },
   "file_extension": ".py",
   "mimetype": "text/x-python",
   "name": "python",
   "nbconvert_exporter": "python",
   "pygments_lexer": "ipython3",
   "version": "3.9.2"
  }
 },
 "nbformat": 4,
 "nbformat_minor": 4
}
