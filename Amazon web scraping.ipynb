{
 "cells": [
  {
   "cell_type": "code",
   "execution_count": 1,
   "metadata": {},
   "outputs": [],
   "source": [
    "#importing required libraries\n",
    "from bs4 import BeautifulSoup\n",
    "import requests\n",
    "import datetime\n",
    "import time\n",
    "import smtplib"
   ]
  },
  {
   "cell_type": "code",
   "execution_count": 29,
   "metadata": {},
   "outputs": [
    {
     "name": "stdout",
     "output_type": "stream",
     "text": [
      "\n",
      "                   Golf Shirts for Men Dry Fit Performance Print Short Sleeve Moisture Wicking Golf Polo Shirts\n",
      "                  \n",
      "\n",
      "                      $31.99\n",
      "                     \n"
     ]
    }
   ],
   "source": [
    "#Getting data\n",
    "url=\"https://www.amazon.com/dp/B0BK68ZTNP/ref=sspa_dk_detail_4?ie=UTF8&s=apparel&sp_csd=d2lkZ2V0TmFtZT1zcF9kZXRhaWxfdGhlbWF0aWM&pd_rd_i=B0BK6G2LMJ&pd_rd_w=MTuU4&content-id=amzn1.sym.386c274b-4bfe-4421-9052-a1a56db557ab&pf_rd_p=386c274b-4bfe-4421-9052-a1a56db557ab&pf_rd_r=XMRM11716KX4AXD5YTMH&pd_rd_wg=Krafd&pd_rd_r=d22c09c8-28ab-46a6-a237-8e02beacf500&th=1&psc=1\"\n",
    "headers={\"User-Agent\": \"Mozilla/5.0 (Windows NT 10.0; Win64; x64) AppleWebKit/537.36 (KHTML, like Gecko) Chrome/119.0.0.0 Safari/537.36\",\"Accept-Encoding\": \"gzip, deflate, br\",\"Accept\": \"text/html,application/xhtml+xml,application/xml;q=0.9,image/avif,image/webp,image/apng,*/*;q=0.8,application/signed-exchange;v=b3;q=0.7\",\"Upgrade-Insecure-Requests\": \"1\"}\n",
    "page=requests.get(url,headers=headers)\n",
    "stuff1=BeautifulSoup(page.content,'html.parser')\n",
    "stuff2=BeautifulSoup(stuff1.prettify(),'html.parser')\n",
    "title=stuff2.find(id='productTitle').get_text()\n",
    "price=stuff2.find('span',class_='a-offscreen').get_text()\n",
    "print(title)\n",
    "print(price)\n",
    "\n"
   ]
  },
  {
   "cell_type": "code",
   "execution_count": 30,
   "metadata": {},
   "outputs": [
    {
     "name": "stdout",
     "output_type": "stream",
     "text": [
      "Golf Shirts for Men Dry Fit Performance Print Short Sleeve Moisture Wicking Golf Polo Shirts\n",
      "31.99\n"
     ]
    }
   ],
   "source": [
    "price=price.strip()[1:]\n",
    "title=title.strip()\n",
    "print(title)\n",
    "print(price)"
   ]
  },
  {
   "cell_type": "code",
   "execution_count": 40,
   "metadata": {},
   "outputs": [
    {
     "name": "stdout",
     "output_type": "stream",
     "text": [
      "2023-11-08\n",
      "00:00:00\n"
     ]
    }
   ],
   "source": [
    "date=datetime.date.today()\n",
    "\n",
    "print(date)\n"
   ]
  },
  {
   "cell_type": "code",
   "execution_count": 33,
   "metadata": {},
   "outputs": [],
   "source": [
    "import csv\n",
    "header=['Title','price','date']\n",
    "data=[title,price,date]\n",
    "\n",
    "with open('amazonscrap.csv','w',newline='',encoding='UTF8')as f:\n",
    "    writer=csv.writer(f)\n",
    "    writer.writerow(header)\n",
    "    writer.writerow(data)"
   ]
  },
  {
   "cell_type": "code",
   "execution_count": 39,
   "metadata": {},
   "outputs": [
    {
     "name": "stdout",
     "output_type": "stream",
     "text": [
      "                                               Title  price        date\n",
      "0  Golf Shirts for Men Dry Fit Performance Print ...  31.99  08-11-2023\n",
      "1  Golf Shirts for Men Dry Fit Performance Print ...  31.99  2023-11-08\n",
      "2  Golf Shirts for Men Dry Fit Performance Print ...  31.99  2023-11-08\n"
     ]
    }
   ],
   "source": [
    "import pandas as pd\n",
    "df=pd.read_csv(r'C:\\Users\\SAI\\amazonscrap.csv')\n",
    "print(df)"
   ]
  },
  {
   "cell_type": "code",
   "execution_count": 38,
   "metadata": {},
   "outputs": [],
   "source": [
    "with open('amazonscrap.csv','a+',newline='',encoding='UTF8')as f:\n",
    "    writer=csv.writer(f)\n",
    "    writer.writerow(data)"
   ]
  },
  {
   "cell_type": "code",
   "execution_count": 56,
   "metadata": {},
   "outputs": [],
   "source": [
    "def check_price():\n",
    "    url=\"https://www.amazon.com/dp/B0BK68ZTNP/ref=sspa_dk_detail_4?ie=UTF8&s=apparel&sp_csd=d2lkZ2V0TmFtZT1zcF9kZXRhaWxfdGhlbWF0aWM&pd_rd_i=B0BK6G2LMJ&pd_rd_w=MTuU4&content-id=amzn1.sym.386c274b-4bfe-4421-9052-a1a56db557ab&pf_rd_p=386c274b-4bfe-4421-9052-a1a56db557ab&pf_rd_r=XMRM11716KX4AXD5YTMH&pd_rd_wg=Krafd&pd_rd_r=d22c09c8-28ab-46a6-a237-8e02beacf500&th=1&psc=1\"\n",
    "    header={\"User-Agent\": \"Mozilla/5.0 (Windows NT 10.0; Win64; x64) AppleWebKit/537.36 (KHTML, like Gecko) Chrome/119.0.0.0 Safari/537.36\",\"Accept-Encoding\": \"gzip, deflate, br\",\"Accept\": \"text/html,application/xhtml+xml,application/xml;q=0.9,image/avif,image/webp,image/apng,*/*;q=0.8,application/signed-exchange;v=b3;q=0.7\",\"Upgrade-Insecure-Requests\": \"1\"}\n",
    "    page=requests.get(url,headers=header)\n",
    "    stuff1=BeautifulSoup(page.content,'html.parser')\n",
    "    stuff2=BeautifulSoup(stuff1.prettify(),'html.parser')\n",
    "    title=stuff2.find(id='productTitle').get_text()\n",
    "    price=stuff2.find('span',class_='a-offscreen').get_text()\n",
    "    price=price.strip()[1:]\n",
    "    title=title.strip()\n",
    "    date=datetime.date.today()\n",
    "    \n",
    "    import csv\n",
    "    header=['Title','price','date']\n",
    "    data=[title,price,date]\n",
    "    with open('amazonscrap.csv','a+',newline='',encoding='UTF8')as f:\n",
    "        writer=csv.writer(f)\n",
    "        writer.writerow(data)\n",
    "\n",
    "    "
   ]
  },
  {
   "cell_type": "code",
   "execution_count": null,
   "metadata": {},
   "outputs": [],
   "source": [
    "import time\n",
    "while(True):\n",
    "    check_price()\n",
    "    time.sleep(82000)"
   ]
  },
  {
   "cell_type": "code",
   "execution_count": null,
   "metadata": {},
   "outputs": [],
   "source": [
    "import pandas as pd\n",
    "df=pd.read_csv(r'C:\\Users\\SAI\\amazonscrap.csv')\n",
    "print(df)"
   ]
  },
  {
   "cell_type": "code",
   "execution_count": null,
   "metadata": {},
   "outputs": [],
   "source": []
  }
 ],
 "metadata": {
  "kernelspec": {
   "display_name": "BSKernel",
   "language": "python",
   "name": "bskernel"
  },
  "language_info": {
   "codemirror_mode": {
    "name": "ipython",
    "version": 3
   },
   "file_extension": ".py",
   "mimetype": "text/x-python",
   "name": "python",
   "nbconvert_exporter": "python",
   "pygments_lexer": "ipython3",
   "version": "3.9.2"
  }
 },
 "nbformat": 4,
 "nbformat_minor": 4
}
